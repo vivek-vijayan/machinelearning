{
 "cells": [
  {
   "cell_type": "markdown",
   "metadata": {},
   "source": [
    "# Polynomial Regression\n",
    "\n",
    "Polynomial regression, like linear regression, uses the relationship between the variables x and y to find the best way to draw a line through the data points."
   ]
  },
  {
   "cell_type": "code",
   "execution_count": 1,
   "metadata": {},
   "outputs": [],
   "source": [
    "import numpy\n",
    "import scipy\n",
    "import matplotlib.pyplot as plt"
   ]
  },
  {
   "cell_type": "code",
   "execution_count": 13,
   "metadata": {},
   "outputs": [
    {
     "name": "stdout",
     "output_type": "stream",
     "text": [
      "[62.06528933 15.34191954 62.09801251 95.41612623 29.25132155 76.82998394\n",
      " 63.87040162  0.3617069  43.59685027 85.40090553 39.74658696 45.46346775\n",
      " 50.10132141 16.56788432 23.46836745 56.54380476 69.98635743 14.12990243\n",
      " 31.35165877 68.71948317]\n",
      "[30.88838798 58.11750767 13.05634216 80.86113471 69.67275512 93.99129928\n",
      " 64.15719573 81.49114    62.48827985 48.34541884 41.97782248 87.51594937\n",
      " 61.54863183 24.71910398 64.68390414 41.92321769  1.82201304  2.90854387\n",
      " 62.55781824 20.51949241]\n"
     ]
    },
    {
     "data": {
      "image/png": "[encoded data removed]",
      "text/plain": [
       "<Figure size 432x288 with 1 Axes>"
      ]
     },
     "metadata": {
      "needs_background": "light"
     },
     "output_type": "display_data"
    }
   ],
   "source": [
    "x = numpy.random.uniform(0,100,20)\n",
    "y = numpy.random.uniform(0,100,20)\n",
    "print(x)\n",
    "print(y)\n",
    "# Scattering the plots in the graph\n",
    "plt.scatter(x,y)\n",
    "\n",
    "plot = numpy.poly1d(numpy.polyfit(x,y,3))\n",
    "polyline = numpy.linspace(1,100,100)\n",
    "\n",
    "plt.plot(polyline, plot(polyline))\n",
    "plt.show()\n"
   ]
  },
  {
   "cell_type": "code",
   "execution_count": null,
   "metadata": {},
   "outputs": [],
   "source": []
  }
 ],
 "metadata": {
  "kernelspec": {
   "display_name": "Python 3.9.13 64-bit",
   "language": "python",
   "name": "python3"
  },
  "language_info": {
   "codemirror_mode": {
    "name": "ipython",
    "version": 3
   },
   "file_extension": ".py",
   "mimetype": "text/x-python",
   "name": "python",
   "nbconvert_exporter": "python",
   "pygments_lexer": "ipython3",
   "version": "3.9.13"
  },
  "orig_nbformat": 4,
  "vscode": {
   "interpreter": {
    "hash": "ac2eaa0ea0ebeafcc7822e65e46aa9d4f966f30b695406963e145ea4a91cd4fc"
   }
  }
 },
 "nbformat": 4,
 "nbformat_minor": 2
}
